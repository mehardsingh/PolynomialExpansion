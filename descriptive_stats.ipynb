{
 "cells": [
  {
   "cell_type": "code",
   "execution_count": 76,
   "metadata": {},
   "outputs": [],
   "source": [
    "file1 = open('data.txt', 'r')\n",
    "doc = file1.read()\n",
    "lines = doc.split('\\n')"
   ]
  },
  {
   "cell_type": "code",
   "execution_count": 77,
   "metadata": {},
   "outputs": [],
   "source": [
    "X = []\n",
    "Y = []\n",
    "\n",
    "for line in lines:\n",
    "    x, y = line.split('=')\n",
    "    X.append(x)\n",
    "    Y.append(y)"
   ]
  },
  {
   "cell_type": "code",
   "execution_count": 78,
   "metadata": {},
   "outputs": [
    {
     "name": "stdout",
     "output_type": "stream",
     "text": [
      "(: 1717013\n",
      "7: 646955\n",
      "-: 2932951\n",
      "3: 950998\n",
      "*: 6296348\n",
      "z: 245599\n",
      "): 1717013\n",
      "5: 803947\n",
      "9: 500412\n",
      "=: 1000000\n",
      "1: 1551639\n",
      "2: 2739472\n",
      "8: 799495\n",
      "6: 854153\n",
      "s: 568438\n",
      "n: 566389\n",
      "+: 1249605\n",
      "4: 952516\n",
      "x: 243916\n",
      "c: 284521\n",
      "0: 621755\n",
      "k: 245042\n",
      "o: 283088\n",
      "j: 244094\n",
      "h: 244132\n",
      "y: 246024\n",
      "i: 528183\n",
      "t: 285215\n",
      "a: 284688\n"
     ]
    }
   ],
   "source": [
    "freq = {}\n",
    "total_chars = 0\n",
    "for i in range(len(lines)):\n",
    "    line = lines[i]\n",
    "    for c in line:\n",
    "        if not c in freq:\n",
    "            freq[c] = 0\n",
    "        freq[c] += 1\n",
    "\n",
    "for k in freq:\n",
    "    print('{}: {}'.format(k, freq[k]))\n"
   ]
  },
  {
   "cell_type": "code",
   "execution_count": 79,
   "metadata": {},
   "outputs": [],
   "source": [
    "import re\n",
    "import collections\n",
    "\n",
    "def get_pattern_freq(pattern):\n",
    "    patterns = re.findall(pattern, doc)\n",
    "    return collections.Counter(patterns).most_common()"
   ]
  },
  {
   "cell_type": "code",
   "execution_count": 80,
   "metadata": {},
   "outputs": [
    {
     "data": {
      "text/plain": [
       "[('s', 489862),\n",
       " ('i', 488935),\n",
       " ('n', 487884),\n",
       " ('y', 246024),\n",
       " ('t', 245958),\n",
       " ('z', 245599),\n",
       " ('a', 245431),\n",
       " ('c', 245193),\n",
       " ('k', 245042),\n",
       " ('h', 244132),\n",
       " ('j', 244094),\n",
       " ('x', 243916),\n",
       " ('o', 243760),\n",
       " ('cos', 39328),\n",
       " ('tan', 39257),\n",
       " ('sin', 39248)]"
      ]
     },
     "execution_count": 80,
     "metadata": {},
     "output_type": "execute_result"
    }
   ],
   "source": [
    "get_pattern_freq('[a-z]+')"
   ]
  },
  {
   "cell_type": "code",
   "execution_count": 81,
   "metadata": {},
   "outputs": [
    {
     "data": {
      "text/plain": [
       "[('2', 2739472),\n",
       " ('1', 1551639),\n",
       " ('4', 952516),\n",
       " ('3', 950998),\n",
       " ('6', 854153),\n",
       " ('5', 803947),\n",
       " ('8', 799495),\n",
       " ('7', 646955),\n",
       " ('0', 621755),\n",
       " ('9', 500412)]"
      ]
     },
     "execution_count": 81,
     "metadata": {},
     "output_type": "execute_result"
    }
   ],
   "source": [
    "get_pattern_freq('[0-9]')"
   ]
  },
  {
   "cell_type": "code",
   "execution_count": 82,
   "metadata": {},
   "outputs": [
    {
     "data": {
      "text/plain": [
       "[('*', 3248644),\n",
       " ('-', 2554740),\n",
       " ('+', 1226446),\n",
       " ('**', 1008562),\n",
       " (')', 967952),\n",
       " ('(', 571337),\n",
       " (')*(', 547006),\n",
       " ('*(', 249028),\n",
       " ('(-', 188892),\n",
       " (')*(-', 84807),\n",
       " ('*(-', 68256),\n",
       " (')-', 33989),\n",
       " (')**', 32287),\n",
       " (')+', 23159),\n",
       " (')*', 7697),\n",
       " ('))*(', 5519),\n",
       " ('))*', 1958),\n",
       " ('))*(-', 1727),\n",
       " ('))', 850),\n",
       " ('-(', 342),\n",
       " ('-(-', 99),\n",
       " ('))**', 4)]"
      ]
     },
     "execution_count": 82,
     "metadata": {},
     "output_type": "execute_result"
    }
   ],
   "source": [
    "get_pattern_freq('[-+*()]+')"
   ]
  },
  {
   "cell_type": "code",
   "execution_count": null,
   "metadata": {},
   "outputs": [],
   "source": [
    "get_pattern_freq('sin|cos|tan|\\d|\\w|\\(|\\)|\\+|\\*+|\\-')"
   ]
  },
  {
   "cell_type": "code",
   "execution_count": null,
   "metadata": {},
   "outputs": [],
   "source": []
  }
 ],
 "metadata": {
  "kernelspec": {
   "display_name": "Python 3 (ipykernel)",
   "language": "python",
   "name": "python3"
  },
  "language_info": {
   "codemirror_mode": {
    "name": "ipython",
    "version": 3
   },
   "file_extension": ".py",
   "mimetype": "text/x-python",
   "name": "python",
   "nbconvert_exporter": "python",
   "pygments_lexer": "ipython3",
   "version": "3.9.7"
  },
  "vscode": {
   "interpreter": {
    "hash": "aee8b7b246df8f9039afb4144a1f6fd8d2ca17a180786b69acc140d282b71a49"
   }
  }
 },
 "nbformat": 4,
 "nbformat_minor": 2
}
